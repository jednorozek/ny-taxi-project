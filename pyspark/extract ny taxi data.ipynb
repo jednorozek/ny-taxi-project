{
 "cells": [
  {
   "cell_type": "code",
   "execution_count": 1,
   "id": "787017d7",
   "metadata": {},
   "outputs": [],
   "source": [
    "import wget as w\n",
    "import datetime as dt"
   ]
  },
  {
   "cell_type": "code",
   "execution_count": 29,
   "id": "99891ebe",
   "metadata": {},
   "outputs": [],
   "source": [
    "path = 'https://d37ci6vzurychx.cloudfront.net/trip-data/'\n",
    "type_data = ['yellow_tripdata', 'green_tripdata']\n",
    "start_date = [2022, 1]\n",
    "end_date = [2023, 3]"
   ]
  },
  {
   "cell_type": "code",
   "execution_count": 31,
   "id": "72223fbc",
   "metadata": {},
   "outputs": [
    {
     "name": "stdout",
     "output_type": "stream",
     "text": [
      "100% [..........................................................................] 1427002 / 1427002"
     ]
    },
    {
     "data": {
      "text/plain": [
       "\"while st_dt<=en_dt:\\n       \\n    if start_date[1]==12:\\n        start_date[0] +=1\\n        start_date[1] = 0 \\n        next\\n    start_date[1] += 1\\n    \\n    #print(start_date)\\n    print(st_dt.strftime('%Y-%m'))\\n    \\n    #w.download(path+type_data[1]+'_'+st_dt.strftime('%Y-%m')+'.parquet', type_data[1]+'_'+st_dt.strftime('%Y-%m')) \\n    \\n    st_dt = dt.datetime(start_date[0],start_date[1],1)\\n    en_dt= dt.datetime(end_date[0],end_date[1],1)\""
      ]
     },
     "execution_count": 31,
     "metadata": {},
     "output_type": "execute_result"
    }
   ],
   "source": [
    "st_dt = dt.datetime(start_date[0],start_date[1],1)\n",
    "en_dt= dt.datetime(end_date[0],end_date[1],1)\n",
    "\n",
    "#w.download(path+type_data[1]+'_'+st_dt.strftime('%Y-%m')+'.parquet', out ='green/'+type_data[1]+'_'+st_dt.strftime('%Y-%m')+'.parquet' ) \n",
    "\n",
    "while st_dt<=en_dt:\n",
    "       \n",
    "    if start_date[1]==12:\n",
    "        start_date[0] +=1\n",
    "        start_date[1] = 0 \n",
    "        next\n",
    "    start_date[1] += 1\n",
    "    \n",
    "    #print(start_date)\n",
    "    print(st_dt.strftime('%Y-%m'))\n",
    "    \n",
    "    w.download(path+type_data[1]+'_'+st_dt.strftime('%Y-%m')+'.parquet', type_data[1]+'_'+st_dt.strftime('%Y-%m')+'.parquet') \n",
    "    \n",
    "    st_dt = dt.datetime(start_date[0],start_date[1],1)\n",
    "    en_dt= dt.datetime(end_date[0],end_date[1],1)\n",
    "    \n",
    "    \n",
    "\n"
   ]
  },
  {
   "cell_type": "code",
   "execution_count": 14,
   "id": "13a38d7b",
   "metadata": {},
   "outputs": [
    {
     "name": "stdout",
     "output_type": "stream",
     "text": [
      "2022-01\n"
     ]
    }
   ],
   "source": [
    "#print(st_dt.strftime('%Y-%m'))"
   ]
  },
  {
   "cell_type": "code",
   "execution_count": 69,
   "id": "5325ff24",
   "metadata": {},
   "outputs": [
    {
     "name": "stdout",
     "output_type": "stream",
     "text": [
      "https://d37ci6vzurychx.cloudfront.net/trip-data/yellow_tripdata2022-01.parquet\n"
     ]
    }
   ],
   "source": [
    "#print(path+type_data[0]+st_dt.strftime('%Y-%m')+'.parquet')"
   ]
  },
  {
   "cell_type": "code",
   "execution_count": 5,
   "id": "1d2e1d94",
   "metadata": {},
   "outputs": [
    {
     "name": "stdout",
     "output_type": "stream",
     "text": [
      "https://d37ci6vzurychx.cloudfront.net/trip-data/green_tripdata_2022-3.parquet\n"
     ]
    }
   ],
   "source": [
    "#print(path+type_data[1]+'_'+str(start_date[0])+'-'+str(start_date[1])+'.parquet')"
   ]
  },
  {
   "cell_type": "code",
   "execution_count": 13,
   "id": "318d4c82",
   "metadata": {},
   "outputs": [
    {
     "name": "stdout",
     "output_type": "stream",
     "text": [
      "Help on function download in module wget:\n",
      "\n",
      "download(url, out=None, bar=<function bar_adaptive at 0x0000015169E37940>)\n",
      "    High level function, which downloads URL into tmp file in current\n",
      "    directory and then renames it to filename autodetected from either URL\n",
      "    or HTTP headers.\n",
      "    \n",
      "    :param bar: function to track download progress (visualize etc.)\n",
      "    :param out: output filename or directory\n",
      "    :return:    filename where URL is downloaded to\n",
      "\n"
     ]
    }
   ],
   "source": [
    "#w.download('https://d37ci6vzurychx.cloudfront.net/misc/taxi+_zone_lookup.csv')"
   ]
  },
  {
   "cell_type": "code",
   "execution_count": 32,
   "id": "3eead7df",
   "metadata": {},
   "outputs": [
    {
     "data": {
      "text/plain": [
       "('\\u202ataxi+_zone_lookup.csv', <http.client.HTTPMessage at 0x1516ff83dc0>)"
      ]
     },
     "execution_count": 32,
     "metadata": {},
     "output_type": "execute_result"
    }
   ],
   "source": [
    "import urllib.request\n",
    "\n",
    "user_agent = 'Mozilla/5.0 (Windows; U; Windows NT 5.1; en-US; rv:1.9.0.7) Gecko/2009021910 Firefox/3.0.7'\n",
    "\n",
    "url = 'https://d37ci6vzurychx.cloudfront.net/misc/taxi+_zone_lookup.csv'\n",
    "headers={'User-Agent':user_agent,} \n",
    "\n",
    "request=urllib.request.Request(url,None,headers)\n",
    "#response = urllib.request.urlopen(request)\n",
    "urllib.request.urlretrieve(url, '‪taxi+_zone_lookup.csv')\n",
    "#data = response.read() \n",
    "#data"
   ]
  },
  {
   "cell_type": "code",
   "execution_count": null,
   "id": "13e274bb",
   "metadata": {},
   "outputs": [],
   "source": []
  },
  {
   "cell_type": "code",
   "execution_count": null,
   "id": "a2895359",
   "metadata": {},
   "outputs": [],
   "source": []
  }
 ],
 "metadata": {
  "kernelspec": {
   "display_name": "Python 3 (ipykernel)",
   "language": "python",
   "name": "python3"
  },
  "language_info": {
   "codemirror_mode": {
    "name": "ipython",
    "version": 3
   },
   "file_extension": ".py",
   "mimetype": "text/x-python",
   "name": "python",
   "nbconvert_exporter": "python",
   "pygments_lexer": "ipython3",
   "version": "3.9.12"
  }
 },
 "nbformat": 4,
 "nbformat_minor": 5
}
